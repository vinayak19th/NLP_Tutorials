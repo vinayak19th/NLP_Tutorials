{
 "cells": [
  {
   "cell_type": "markdown",
   "metadata": {},
   "source": [
    "# Sentiment Classifier using a Parallel Neural Network\n",
    "\n",
    "> Classification of IMDB Reviews by sentiment"
   ]
  },
  {
   "cell_type": "code",
   "execution_count": 10,
   "metadata": {},
   "outputs": [],
   "source": [
    "import tensorflow as tf\n",
    "from tensorflow.keras.datasets import imdb\n",
    "from tensorflow.keras.preprocessing.sequence import pad_sequences\n",
    "from tensorflow.keras.models import Model\n",
    "from tensorflow.keras.layers import Dense,Flatten, Dropout, Embedding ,SpatialDropout1D\n",
    "from tensorflow.keras.layers import concatenate, Input\n",
    "from tensorflow.keras.layers import CuDNNLSTM, Bidirectional\n",
    "from tensorflow.keras.layers import Conv1D, GlobalMaxPool1D\n",
    "from tensorflow.keras.callbacks import ModelCheckpoint"
   ]
  },
  {
   "cell_type": "code",
   "execution_count": 2,
   "metadata": {},
   "outputs": [],
   "source": [
    "import os\n",
    "from sklearn.metrics import roc_auc_score\n",
    "import pandas as pd\n",
    "import matplotlib.pyplot as plt\n",
    "import numpy as np\n",
    "%matplotlib inline"
   ]
  },
  {
   "cell_type": "code",
   "execution_count": 3,
   "metadata": {},
   "outputs": [
    {
     "data": {
      "text/plain": [
       "'1.13.1'"
      ]
     },
     "execution_count": 3,
     "metadata": {},
     "output_type": "execute_result"
    }
   ],
   "source": [
    "tf.__version__"
   ]
  },
  {
   "cell_type": "markdown",
   "metadata": {},
   "source": [
    "## Hyper Parameter choices"
   ]
  },
  {
   "cell_type": "code",
   "execution_count": 4,
   "metadata": {},
   "outputs": [],
   "source": [
    "out_dir = 'model_out/Parallel/'\n",
    "epochs = 5\n",
    "batch_size = 128\n",
    "\n",
    "n_dim = 64\n",
    "n_unique = 10000\n",
    "\n",
    "max_review = 200\n",
    "pad_type = trunc_type = 'pre'"
   ]
  },
  {
   "cell_type": "markdown",
   "metadata": {},
   "source": [
    "## Loading the Data"
   ]
  },
  {
   "cell_type": "code",
   "execution_count": 5,
   "metadata": {},
   "outputs": [],
   "source": [
    "(x_train, y_train), (x_valid, y_valid) = imdb.load_data(num_words=n_unique)"
   ]
  },
  {
   "cell_type": "code",
   "execution_count": 6,
   "metadata": {},
   "outputs": [],
   "source": [
    "x_train = np.asarray(x_train)\n",
    "y_train = np.asanyarray(y_train)"
   ]
  },
  {
   "cell_type": "code",
   "execution_count": 7,
   "metadata": {},
   "outputs": [
    {
     "name": "stdout",
     "output_type": "stream",
     "text": [
      "(25000,) (25000,)\n"
     ]
    }
   ],
   "source": [
    "print(x_train.shape,y_train.shape)"
   ]
  },
  {
   "cell_type": "markdown",
   "metadata": {},
   "source": [
    "## Preprocessing"
   ]
  },
  {
   "cell_type": "code",
   "execution_count": 8,
   "metadata": {},
   "outputs": [],
   "source": [
    "x_train = pad_sequences(x_train,maxlen=max_review,padding=pad_type,truncating=trunc_type, value=0)"
   ]
  },
  {
   "cell_type": "code",
   "execution_count": 9,
   "metadata": {},
   "outputs": [],
   "source": [
    "x_valid = pad_sequences(x_valid,maxlen=max_review,padding=pad_type,truncating=trunc_type, value=0)"
   ]
  },
  {
   "cell_type": "code",
   "execution_count": 11,
   "metadata": {},
   "outputs": [
    {
     "data": {
      "text/plain": [
       "(25000, 200)"
      ]
     },
     "execution_count": 11,
     "metadata": {},
     "output_type": "execute_result"
    }
   ],
   "source": [
    "x_train.shape"
   ]
  },
  {
   "cell_type": "markdown",
   "metadata": {},
   "source": [
    "## Convnet Architecture"
   ]
  },
  {
   "cell_type": "code",
   "execution_count": 36,
   "metadata": {},
   "outputs": [],
   "source": [
    "def modeler(n_drop=0.2,n_drop_em = 0.2,n_lstm = 20,n_conv = 256):\n",
    "    inputL = Input(shape=(max_review,),dtype='int16',name='Input')\n",
    "    \n",
    "    embedding = Embedding(n_unique,n_dim,input_length=max_review,name=\"Embedding\")(inputL)\n",
    "    drop_embed = SpatialDropout1D(n_drop_em,name=\"Embedding_Dropout\")(embedding)\n",
    "    \n",
    "    conv1 = Conv1D(n_conv,kernel_size=2,activation='relu',name=\"Conv1\")(drop_embed)\n",
    "    maxp1 = GlobalMaxPool1D(name=\"MaxPool1\")(conv1)\n",
    "    \n",
    "    conv2 =  Conv1D(n_conv,kernel_size=3,activation='relu',name=\"Conv2\")(drop_embed)\n",
    "    maxp2 = GlobalMaxPool1D(name=\"MaxPool2\")(conv2)\n",
    "    \n",
    "    conv3 =  Conv1D(n_conv,kernel_size=4,activation='relu',name=\"Conv3\")(drop_embed)\n",
    "    maxp3 = GlobalMaxPool1D(name=\"MaxPool3\")(conv3)\n",
    "    \n",
    "    concater = concatenate([maxp1,maxp2,maxp3])\n",
    "    \n",
    "    dense_layer = Dense(100,activation='relu',name=\"Dense\")(concater)\n",
    "    drop_dense = Dropout(0.4,name=\"Drop_Dense\")(dense_layer)\n",
    "    prediction = Dense(1,activation='sigmoid')(drop_dense)\n",
    "    \n",
    "    model = Model(inputL,prediction)\n",
    "    model.summary()\n",
    "    return model"
   ]
  },
  {
   "cell_type": "code",
   "execution_count": 37,
   "metadata": {},
   "outputs": [
    {
     "name": "stdout",
     "output_type": "stream",
     "text": [
      "__________________________________________________________________________________________________\n",
      "Layer (type)                    Output Shape         Param #     Connected to                     \n",
      "==================================================================================================\n",
      "Input (InputLayer)              (None, 200)          0                                            \n",
      "__________________________________________________________________________________________________\n",
      "Embedding (Embedding)           (None, 200, 64)      640000      Input[0][0]                      \n",
      "__________________________________________________________________________________________________\n",
      "Embedding_Dropout (SpatialDropo (None, 200, 64)      0           Embedding[0][0]                  \n",
      "__________________________________________________________________________________________________\n",
      "Conv1 (Conv1D)                  (None, 199, 256)     33024       Embedding_Dropout[0][0]          \n",
      "__________________________________________________________________________________________________\n",
      "Conv2 (Conv1D)                  (None, 198, 256)     49408       Embedding_Dropout[0][0]          \n",
      "__________________________________________________________________________________________________\n",
      "Conv3 (Conv1D)                  (None, 197, 256)     65792       Embedding_Dropout[0][0]          \n",
      "__________________________________________________________________________________________________\n",
      "MaxPool1 (GlobalMaxPooling1D)   (None, 256)          0           Conv1[0][0]                      \n",
      "__________________________________________________________________________________________________\n",
      "MaxPool2 (GlobalMaxPooling1D)   (None, 256)          0           Conv2[0][0]                      \n",
      "__________________________________________________________________________________________________\n",
      "MaxPool3 (GlobalMaxPooling1D)   (None, 256)          0           Conv3[0][0]                      \n",
      "__________________________________________________________________________________________________\n",
      "concatenate_1 (Concatenate)     (None, 768)          0           MaxPool1[0][0]                   \n",
      "                                                                 MaxPool2[0][0]                   \n",
      "                                                                 MaxPool3[0][0]                   \n",
      "__________________________________________________________________________________________________\n",
      "Dense (Dense)                   (None, 100)          76900       concatenate_1[0][0]              \n",
      "__________________________________________________________________________________________________\n",
      "Drop_Dense (Dropout)            (None, 100)          0           Dense[0][0]                      \n",
      "__________________________________________________________________________________________________\n",
      "dense_2 (Dense)                 (None, 1)            101         Drop_Dense[0][0]                 \n",
      "==================================================================================================\n",
      "Total params: 865,225\n",
      "Trainable params: 865,225\n",
      "Non-trainable params: 0\n",
      "__________________________________________________________________________________________________\n"
     ]
    }
   ],
   "source": [
    "model = modeler()"
   ]
  },
  {
   "cell_type": "code",
   "execution_count": 38,
   "metadata": {},
   "outputs": [],
   "source": [
    "model.compile(loss='binary_crossentropy',optimizer='adam',metrics=['accuracy'])\n",
    "modelcheckpoint = ModelCheckpoint(filepath=out_dir+\"weights.{epoch:02d}.hdf5\")\n",
    "if not os.path.exists(out_dir):\n",
    "    os.makedirs(out_dir)"
   ]
  },
  {
   "cell_type": "markdown",
   "metadata": {},
   "source": [
    "## Model Training"
   ]
  },
  {
   "cell_type": "code",
   "execution_count": 39,
   "metadata": {},
   "outputs": [
    {
     "name": "stdout",
     "output_type": "stream",
     "text": [
      "Train on 25000 samples, validate on 25000 samples\n",
      "Epoch 1/5\n",
      "25000/25000 [==============================] - 11s 440us/sample - loss: 0.5228 - acc: 0.7177 - val_loss: 0.3200 - val_acc: 0.8644\n",
      "Epoch 2/5\n",
      "25000/25000 [==============================] - 10s 418us/sample - loss: 0.2760 - acc: 0.8900 - val_loss: 0.2804 - val_acc: 0.8816\n",
      "Epoch 3/5\n",
      "25000/25000 [==============================] - 11s 439us/sample - loss: 0.1838 - acc: 0.9330 - val_loss: 0.2912 - val_acc: 0.8847\n",
      "Epoch 4/5\n",
      "25000/25000 [==============================] - 15s 603us/sample - loss: 0.1124 - acc: 0.9650 - val_loss: 0.3354 - val_acc: 0.8775\n",
      "Epoch 5/5\n",
      "25000/25000 [==============================] - 14s 564us/sample - loss: 0.0669 - acc: 0.9802 - val_loss: 0.3758 - val_acc: 0.8745\n"
     ]
    },
    {
     "data": {
      "text/plain": [
       "<tensorflow.python.keras.callbacks.History at 0x7fe9c5cb7160>"
      ]
     },
     "execution_count": 39,
     "metadata": {},
     "output_type": "execute_result"
    }
   ],
   "source": [
    "model.fit(x_train,y_train,batch_size=batch_size,epochs=5,verbose=1,validation_data=(x_valid,y_valid),callbacks=[modelcheckpoint])"
   ]
  },
  {
   "cell_type": "markdown",
   "metadata": {},
   "source": [
    "## Tensorboard Support"
   ]
  },
  {
   "cell_type": "code",
   "execution_count": null,
   "metadata": {},
   "outputs": [],
   "source": [
    "from tensorflow.keras.callbacks import TensorBoard\n",
    "from time import time"
   ]
  },
  {
   "cell_type": "code",
   "execution_count": null,
   "metadata": {},
   "outputs": [],
   "source": [
    "tensorboard = TensorBoard(log_dir=out_dir+\"/tdb/\"+\"logs/{}\".format(time()),histogram_freq=1)"
   ]
  },
  {
   "cell_type": "code",
   "execution_count": null,
   "metadata": {},
   "outputs": [],
   "source": [
    "model.fit(x_train,y_train,batch_size=batch_size,epochs=epochs,verbose=1,validation_data=(x_valid,y_valid),callbacks=[tensorboard])"
   ]
  },
  {
   "cell_type": "code",
   "execution_count": null,
   "metadata": {},
   "outputs": [],
   "source": [
    "! tensorboard --logdir=model_out/LSTM/tdb/logs/"
   ]
  },
  {
   "cell_type": "markdown",
   "metadata": {},
   "source": [
    "## Loading Model Weights"
   ]
  },
  {
   "cell_type": "code",
   "execution_count": 40,
   "metadata": {
    "scrolled": true
   },
   "outputs": [],
   "source": [
    "model.load_weights(out_dir+'weights.03.hdf5')"
   ]
  },
  {
   "cell_type": "code",
   "execution_count": 41,
   "metadata": {},
   "outputs": [
    {
     "data": {
      "text/plain": [
       "(25000, 200)"
      ]
     },
     "execution_count": 41,
     "metadata": {},
     "output_type": "execute_result"
    }
   ],
   "source": [
    "x_valid.shape"
   ]
  },
  {
   "cell_type": "code",
   "execution_count": 43,
   "metadata": {},
   "outputs": [
    {
     "name": "stdout",
     "output_type": "stream",
     "text": [
      "25000/25000 [==============================] - 2s 95us/sample\n"
     ]
    }
   ],
   "source": [
    "y_hat = model.predict(x_valid,verbose=1)"
   ]
  },
  {
   "cell_type": "code",
   "execution_count": 44,
   "metadata": {},
   "outputs": [
    {
     "data": {
      "text/plain": [
       "array([0.00617099], dtype=float32)"
      ]
     },
     "execution_count": 44,
     "metadata": {},
     "output_type": "execute_result"
    }
   ],
   "source": [
    "y_hat[0]"
   ]
  },
  {
   "cell_type": "code",
   "execution_count": 45,
   "metadata": {},
   "outputs": [
    {
     "data": {
      "image/png": "[encoded data removed]",
      "text/plain": [
       "<Figure size 432x288 with 1 Axes>"
      ]
     },
     "metadata": {
      "needs_background": "light"
     },
     "output_type": "display_data"
    }
   ],
   "source": [
    "plt.hist(y_hat)\n",
    "_ = plt.axvline(x=0.5,color = 'orange')"
   ]
  },
  {
   "cell_type": "code",
   "execution_count": 46,
   "metadata": {},
   "outputs": [],
   "source": [
    "pct = roc_auc_score(y_valid,y_hat)*100.0"
   ]
  },
  {
   "cell_type": "code",
   "execution_count": 47,
   "metadata": {},
   "outputs": [
    {
     "data": {
      "text/plain": [
       "'95.32'"
      ]
     },
     "execution_count": 47,
     "metadata": {},
     "output_type": "execute_result"
    }
   ],
   "source": [
    "\"{:0.2f}\".format(pct)"
   ]
  },
  {
   "cell_type": "code",
   "execution_count": 48,
   "metadata": {},
   "outputs": [],
   "source": [
    "def dfr(y_hat):\n",
    "    y =[]\n",
    "    for i in y_hat:\n",
    "        y.append(i[0])\n",
    "    return y"
   ]
  },
  {
   "cell_type": "code",
   "execution_count": 49,
   "metadata": {},
   "outputs": [],
   "source": [
    "y_df = dfr(y_hat)"
   ]
  },
  {
   "cell_type": "code",
   "execution_count": 50,
   "metadata": {},
   "outputs": [],
   "source": [
    "ydf = pd.DataFrame(list(zip(y_df,y_valid)),columns=['y_pred','y_valid'])"
   ]
  },
  {
   "cell_type": "code",
   "execution_count": 51,
   "metadata": {},
   "outputs": [
    {
     "data": {
      "text/html": [
       "<div>\n",
       "<style scoped>\n",
       "    .dataframe tbody tr th:only-of-type {\n",
       "        vertical-align: middle;\n",
       "    }\n",
       "\n",
       "    .dataframe tbody tr th {\n",
       "        vertical-align: top;\n",
       "    }\n",
       "\n",
       "    .dataframe thead th {\n",
       "        text-align: right;\n",
       "    }\n",
       "</style>\n",
       "<table border=\"1\" class=\"dataframe\">\n",
       "  <thead>\n",
       "    <tr style=\"text-align: right;\">\n",
       "      <th></th>\n",
       "      <th>y_pred</th>\n",
       "      <th>y_valid</th>\n",
       "    </tr>\n",
       "  </thead>\n",
       "  <tbody>\n",
       "    <tr>\n",
       "      <th>0</th>\n",
       "      <td>0.006171</td>\n",
       "      <td>0</td>\n",
       "    </tr>\n",
       "    <tr>\n",
       "      <th>1</th>\n",
       "      <td>0.991230</td>\n",
       "      <td>1</td>\n",
       "    </tr>\n",
       "    <tr>\n",
       "      <th>2</th>\n",
       "      <td>0.980026</td>\n",
       "      <td>1</td>\n",
       "    </tr>\n",
       "    <tr>\n",
       "      <th>3</th>\n",
       "      <td>0.643095</td>\n",
       "      <td>0</td>\n",
       "    </tr>\n",
       "    <tr>\n",
       "      <th>4</th>\n",
       "      <td>0.997989</td>\n",
       "      <td>1</td>\n",
       "    </tr>\n",
       "    <tr>\n",
       "      <th>5</th>\n",
       "      <td>0.815850</td>\n",
       "      <td>1</td>\n",
       "    </tr>\n",
       "    <tr>\n",
       "      <th>6</th>\n",
       "      <td>0.967638</td>\n",
       "      <td>1</td>\n",
       "    </tr>\n",
       "    <tr>\n",
       "      <th>7</th>\n",
       "      <td>0.001481</td>\n",
       "      <td>0</td>\n",
       "    </tr>\n",
       "    <tr>\n",
       "      <th>8</th>\n",
       "      <td>0.994386</td>\n",
       "      <td>0</td>\n",
       "    </tr>\n",
       "    <tr>\n",
       "      <th>9</th>\n",
       "      <td>0.986527</td>\n",
       "      <td>1</td>\n",
       "    </tr>\n",
       "  </tbody>\n",
       "</table>\n",
       "</div>"
      ],
      "text/plain": [
       "     y_pred  y_valid\n",
       "0  0.006171        0\n",
       "1  0.991230        1\n",
       "2  0.980026        1\n",
       "3  0.643095        0\n",
       "4  0.997989        1\n",
       "5  0.815850        1\n",
       "6  0.967638        1\n",
       "7  0.001481        0\n",
       "8  0.994386        0\n",
       "9  0.986527        1"
      ]
     },
     "execution_count": 51,
     "metadata": {},
     "output_type": "execute_result"
    }
   ],
   "source": [
    "ydf.head(10)"
   ]
  },
  {
   "cell_type": "code",
   "execution_count": null,
   "metadata": {},
   "outputs": [],
   "source": []
  }
 ],
 "metadata": {
  "kernelspec": {
   "display_name": "Python 3",
   "language": "python",
   "name": "python3"
  },
  "language_info": {
   "codemirror_mode": {
    "name": "ipython",
    "version": 3
   },
   "file_extension": ".py",
   "mimetype": "text/x-python",
   "name": "python",
   "nbconvert_exporter": "python",
   "pygments_lexer": "ipython3",
   "version": "3.7.2"
  }
 },
 "nbformat": 4,
 "nbformat_minor": 2
}
