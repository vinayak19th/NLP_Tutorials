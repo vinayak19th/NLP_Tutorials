{
 "cells": [
  {
   "cell_type": "code",
   "execution_count": 1,
   "metadata": {},
   "outputs": [],
   "source": [
    "import nltk as nl\n",
    "from nltk import word_tokenize,sent_tokenize\n",
    "from gensim.models.word2vec import Word2Vec\n",
    "from sklearn.manifold import TSNE\n",
    "import pandas as pd\n",
    "from bokeh.io import output_notebook\n",
    "from bokeh.plotting import show, figure\n",
    "%matplotlib inline"
   ]
  },
  {
   "cell_type": "code",
   "execution_count": 2,
   "metadata": {},
   "outputs": [],
   "source": [
    "from nltk.corpus import gutenberg as gut\n",
    "from nltk.corpus import stopwords\n",
    "from nltk.stem.porter import *\n",
    "from gensim.models.phrases import Phraser, Phrases\n",
    "import string"
   ]
  },
  {
   "cell_type": "code",
   "execution_count": 3,
   "metadata": {},
   "outputs": [],
   "source": [
    "g_se= gut.sents()"
   ]
  },
  {
   "cell_type": "markdown",
   "metadata": {},
   "source": [
    "## Cleaning Text"
   ]
  },
  {
   "cell_type": "code",
   "execution_count": 4,
   "metadata": {},
   "outputs": [],
   "source": [
    "lower_se = []\n",
    "for s in g_se:\n",
    "    lower_se.append([w.lower() for w in s if w not in list(string.punctuation)])"
   ]
  },
  {
   "cell_type": "code",
   "execution_count": 5,
   "metadata": {},
   "outputs": [
    {
     "name": "stdout",
     "output_type": "stream",
     "text": [
      "['sixteen', 'years', 'had', 'miss', 'taylor', 'been', 'in', 'mr', 'woodhouse', 's', 'family', 'less', 'as', 'a', 'governess', 'than', 'a', 'friend', 'very', 'fond', 'of', 'both', 'daughters', 'but', 'particularly', 'of', 'emma']\n"
     ]
    }
   ],
   "source": [
    "print(lower_se[6])"
   ]
  },
  {
   "cell_type": "code",
   "execution_count": 6,
   "metadata": {},
   "outputs": [],
   "source": [
    "phra = Phrases(lower_se, min_count = 32, threshold = 64)\n",
    "bigram = Phraser(phra)"
   ]
  },
  {
   "cell_type": "code",
   "execution_count": 7,
   "metadata": {},
   "outputs": [
    {
     "data": {
      "text/plain": [
       "{(b'miss', b'taylor'): (48, 156.44059469941823),\n",
       " (b'mr', b'woodhouse'): (132, 82.04651843976633),\n",
       " (b'mr', b'weston'): (162, 75.87438262077481),\n",
       " (b'mrs', b'weston'): (249, 160.68485093258923),\n",
       " (b'great', b'deal'): (182, 93.36368125424357),\n",
       " (b'mr', b'knightley'): (277, 161.74131790625913),\n",
       " (b'miss', b'woodhouse'): (173, 229.03802722366902),\n",
       " (b'years', b'ago'): (56, 74.31594785893046),\n",
       " (b'mr', b'elton'): (214, 121.3990121932397),\n",
       " (b'dare', b'say'): (115, 89.94000515807346),\n",
       " (b'frank', b'churchill'): (151, 1316.4456593286038),\n",
       " (b'miss', b'bates'): (113, 276.39588291692513),\n",
       " (b'drawing', b'room'): (49, 84.91494947493561),\n",
       " (b'mrs', b'goddard'): (58, 143.57843432545658),\n",
       " (b'miss', b'smith'): (58, 73.03442128232508),\n",
       " (b'few', b'minutes'): (86, 204.16834974753786),\n",
       " (b'john', b'knightley'): (58, 83.03755747111268),\n",
       " (b'don', b't'): (830, 250.30957446808512),\n",
       " (b'good', b'natured'): (66, 88.69936184891343),\n",
       " (b'few', b'moments'): (43, 107.77584531675087),\n",
       " (b'thousand', b'pounds'): (48, 166.51834523092802),\n",
       " (b'o', b'clock'): (67, 89.14789088153573),\n",
       " (b'jane', b'fairfax'): (111, 654.5565917587609),\n",
       " (b'miss', b'fairfax'): (125, 196.19987447261062),\n",
       " (b'ma', b'am'): (216, 157.25846601094193),\n",
       " (b'mrs', b'elton'): (142, 93.08931456265867),\n",
       " (b'forty', b'years'): (68, 90.60220877269607),\n",
       " (b'cut', b'off'): (217, 129.60290535032792),\n",
       " (b'ten', b'thousand'): (82, 84.00099962514057),\n",
       " (b'sir', b'walter'): (136, 399.5145142857143),\n",
       " (b'lady', b'russell'): (147, 613.6301581282135),\n",
       " (b'mr', b'elliot'): (174, 126.18129960463163),\n",
       " (b'mrs', b'clay'): (66, 93.08931456265867),\n",
       " (b'captain', b'wentworth'): (196, 529.8756608388247),\n",
       " (b'mrs', b'musgrove'): (66, 85.21252640735679),\n",
       " (b'charles', b'hayter'): (33, 92.03437785214481),\n",
       " (b'captain', b'benwick'): (56, 241.49037086312987),\n",
       " (b'mrs', b'smith'): (79, 84.60327207490248),\n",
       " (b'mrs', b'dashwood'): (121, 115.06873605661974),\n",
       " (b'mrs', b'ferrars'): (73, 102.75628184416554),\n",
       " (b'sir', b'john'): (113, 95.83994133176884),\n",
       " (b'lady', b'middleton'): (95, 350.26733319243175),\n",
       " (b'mrs', b'jennings'): (229, 279.0655756128398),\n",
       " (b'colonel', b'brandon'): (132, 1313.0078125),\n",
       " (b'miss', b'dashwood'): (70, 76.66830732292917),\n",
       " (b'won', b't'): (219, 189.96708776595744),\n",
       " (b'm', b'sure'): (88, 69.15069432539002),\n",
       " (b'six', b'hundred'): (66, 73.57615079223149),\n",
       " (b'gathered', b'together'): (84, 103.28066074898891),\n",
       " (b'thou', b'shalt'): (1282, 66.88233182614454),\n",
       " (b'burnt', b'offerings'): (86, 299.15702343127646),\n",
       " (b'sweet', b'savour'): (43, 286.17879256965944),\n",
       " (b'unleavened', b'bread'): (43, 237.70041787206688),\n",
       " (b'burnt', b'offering'): (184, 297.524653753951),\n",
       " (b'afar', b'off'): (52, 108.14220347465505),\n",
       " (b'take', b'heed'): (58, 86.38454061712328),\n",
       " (b'sent', b'messengers'): (43, 79.21555418015616),\n",
       " (b'thus', b'saith'): (444, 144.0289127889979),\n",
       " (b'without', b'blemish'): (46, 83.71359108159393),\n",
       " (b'peace', b'offerings'): (83, 176.2577199456205),\n",
       " (b'sin', b'offering'): (118, 129.96079665512747),\n",
       " (b'meat', b'offering'): (122, 210.66724956379437),\n",
       " (b'fine', b'flour'): (36, 86.07682458386685),\n",
       " (b'high', b'places'): (99, 129.8123390846559),\n",
       " (b'fig', b'tree'): (37, 121.73722334004026),\n",
       " (b'fir', b'tree'): (36, 72.6789393074867),\n",
       " (b'mercy', b'endureth'): (41, 269.07674062361025),\n",
       " (b'chief', b'priests'): (65, 116.31947753846512),\n",
       " (b'jesus', b'christ'): (199, 172.16816954974848),\n",
       " (b'holy', b'ghost'): (90, 313.0305073859987),\n",
       " (b'o', b'er'): (82, 108.14993564993564),\n",
       " (b'couldn', b't'): (89, 171.76138536935215),\n",
       " (b'didn', b't'): (180, 220.51081560283686),\n",
       " (b'little', b'jackal'): (61, 69.81254128038833),\n",
       " (b'wasn', b't'): (58, 120.2225788701394),\n",
       " (b'isn', b't'): (63, 131.96593211752787),\n",
       " (b'doesn', b't'): (53, 106.2634985949418),\n",
       " (b'wouldn', b't'): (58, 120.2225788701394),\n",
       " (b'father', b'brown'): (207, 91.68277248710235),\n",
       " (b'buster', b'bear'): (142, 479.87410772225826),\n",
       " (b'green', b'forest'): (66, 336.37733627667404),\n",
       " (b'little', b'joe'): (111, 133.28784038147822),\n",
       " (b'joe', b'otter'): (47, 1271.6141235813368),\n",
       " (b'farmer', b'brown'): (100, 386.05179596892236),\n",
       " (b'mock', b'turtle'): (56, 2528.877742946708),\n",
       " (b'dr', b'bull'): (65, 680.7870294599019),\n",
       " (b'guinea', b'hen'): (51, 905.8822695035461),\n",
       " (b'sir', b'arthur'): (71, 131.41924812030075),\n",
       " (b'miss', b'somers'): (49, 160.06190476190477),\n",
       " (b'mr', b'gresham'): (49, 87.31390492359931),\n",
       " (b'mrs', b'theresa'): (67, 170.20061244665206),\n",
       " (b'de', b'grey'): (77, 603.2109624246722),\n",
       " (b'dr', b'middleton'): (40, 162.73103819257668),\n",
       " (b'moby', b'dick'): (84, 4115.877551020409),\n",
       " (b'sperm', b'whale'): (183, 297.3672297627184),\n",
       " (b'mast', b'heads'): (37, 77.7358926919519),\n",
       " (b'wee', b'l'): (35, 450.39751861042186)}"
      ]
     },
     "execution_count": 7,
     "metadata": {},
     "output_type": "execute_result"
    }
   ],
   "source": [
    "bigram.phrasegrams"
   ]
  },
  {
   "cell_type": "code",
   "execution_count": 8,
   "metadata": {},
   "outputs": [
    {
     "data": {
      "text/plain": [
       "['I', 'live', 'in', 'new', 'york', 'City']"
      ]
     },
     "execution_count": 8,
     "metadata": {},
     "output_type": "execute_result"
    }
   ],
   "source": [
    "bigram[\"I live in new york City\".split()]"
   ]
  },
  {
   "cell_type": "code",
   "execution_count": 9,
   "metadata": {},
   "outputs": [],
   "source": [
    "cleans = []\n",
    "for s in lower_se:\n",
    "    cleans.append([w for w in bigram[s]])"
   ]
  },
  {
   "cell_type": "code",
   "execution_count": 10,
   "metadata": {},
   "outputs": [
    {
     "name": "stdout",
     "output_type": "stream",
     "text": [
      "['even', 'before', 'miss_taylor', 'had', 'ceased', 'to', 'hold', 'the', 'nominal', 'office', 'of', 'governess', 'the', 'mildness', 'of', 'her', 'temper', 'had', 'hardly', 'allowed', 'her', 'to', 'impose', 'any', 'restraint', 'and', 'the', 'shadow', 'of', 'authority', 'being', 'now', 'long', 'passed', 'away', 'they', 'had', 'been', 'living', 'together', 'as', 'friend', 'and', 'friend', 'very', 'mutually', 'attached', 'and', 'emma', 'doing', 'just', 'what', 'she', 'liked', 'highly', 'esteeming', 'miss_taylor', 's', 'judgment', 'but', 'directed', 'chiefly', 'by', 'her', 'own']\n"
     ]
    }
   ],
   "source": [
    "print(cleans[8])"
   ]
  },
  {
   "cell_type": "markdown",
   "metadata": {},
   "source": [
    "## Running Word2Vec"
   ]
  },
  {
   "cell_type": "code",
   "execution_count": 11,
   "metadata": {},
   "outputs": [],
   "source": [
    "model = Word2Vec(sentences = cleans, size = 64, sg = 1, window = 10, min_count = 10,seed=42,workers=0)\n",
    "model.save('clean_guten')"
   ]
  },
  {
   "cell_type": "code",
   "execution_count": 12,
   "metadata": {},
   "outputs": [
    {
     "data": {
      "text/plain": [
       "10329"
      ]
     },
     "execution_count": 12,
     "metadata": {},
     "output_type": "execute_result"
    }
   ],
   "source": [
    "model = Word2Vec.load('clean_guten')\n",
    "len(model.wv.vocab)"
   ]
  },
  {
   "cell_type": "code",
   "execution_count": 13,
   "metadata": {},
   "outputs": [
    {
     "name": "stderr",
     "output_type": "stream",
     "text": [
      "/home/vinayak/anaconda3/envs/tf/lib/python3.6/site-packages/ipykernel_launcher.py:1: DeprecationWarning: Call to deprecated `__getitem__` (Method will be removed in 4.0.0, use self.wv.__getitem__() instead).\n",
      "  \"\"\"Entry point for launching an IPython kernel.\n"
     ]
    },
    {
     "data": {
      "text/plain": [
       "array([-2.9898179e-03, -4.6193823e-03, -5.7450561e-03, -6.2018419e-03,\n",
       "       -5.8170790e-03,  1.2240757e-03, -6.4839572e-03, -2.7938755e-03,\n",
       "       -6.7678353e-05, -7.8360370e-04, -6.5500406e-04,  5.8183767e-04,\n",
       "       -9.8644115e-04, -7.3960759e-03, -4.8867394e-03, -2.6955931e-03,\n",
       "       -7.2020194e-03, -1.2429506e-03,  7.2890567e-03,  4.4676820e-03,\n",
       "       -2.7277302e-03,  2.4627345e-03, -4.8689762e-04, -2.4331795e-04,\n",
       "        1.9091659e-03, -2.0903724e-03,  1.6711315e-03, -7.2890422e-03,\n",
       "       -2.6934973e-03,  2.6842037e-03, -4.4311527e-03,  1.9704953e-03,\n",
       "       -4.3128445e-03,  6.7631966e-03, -3.0163978e-03,  6.4413073e-03,\n",
       "        6.4017684e-03,  3.3131856e-03, -4.1178376e-03, -4.3115434e-03,\n",
       "        2.9175624e-03,  3.1726912e-03, -2.3725831e-03,  6.9264621e-03,\n",
       "        3.7511620e-03,  4.5892200e-04,  4.4114571e-03,  3.6081756e-03,\n",
       "        7.3897345e-03,  5.0307700e-04, -7.3623182e-03,  2.5912053e-03,\n",
       "       -5.6364690e-03,  4.4207326e-03, -3.2816529e-03,  7.1841655e-03,\n",
       "        6.6575175e-03,  2.9939702e-05,  4.2794510e-03, -4.7142012e-03,\n",
       "        6.8287579e-03, -5.4689809e-03, -4.5475671e-03, -7.7626589e-03],\n",
       "      dtype=float32)"
      ]
     },
     "execution_count": 13,
     "metadata": {},
     "output_type": "execute_result"
    }
   ],
   "source": [
    "model['ma_am']"
   ]
  },
  {
   "cell_type": "code",
   "execution_count": 14,
   "metadata": {},
   "outputs": [
    {
     "name": "stderr",
     "output_type": "stream",
     "text": [
      "/home/vinayak/anaconda3/envs/tf/lib/python3.6/site-packages/ipykernel_launcher.py:1: DeprecationWarning: Call to deprecated `most_similar` (Method will be removed in 4.0.0, use self.wv.most_similar() instead).\n",
      "  \"\"\"Entry point for launching an IPython kernel.\n"
     ]
    },
    {
     "data": {
      "text/plain": [
       "[('splendour', 0.4932404160499573),\n",
       " ('wrists', 0.46916839480400085),\n",
       " ('grassy', 0.44667327404022217),\n",
       " ('falsehood', 0.44000157713890076),\n",
       " ('plays', 0.4335097074508667),\n",
       " ('mr', 0.4279397428035736),\n",
       " ('lizard', 0.42477989196777344),\n",
       " ('consort', 0.422755628824234),\n",
       " ('sheba', 0.4169110655784607),\n",
       " ('sanity', 0.39265888929367065)]"
      ]
     },
     "execution_count": 14,
     "metadata": {},
     "output_type": "execute_result"
    }
   ],
   "source": [
    "model.most_similar(positive=['ma_am','man'], negative=['woman'])"
   ]
  },
  {
   "cell_type": "code",
   "execution_count": 15,
   "metadata": {},
   "outputs": [
    {
     "name": "stderr",
     "output_type": "stream",
     "text": [
      "/home/vinayak/anaconda3/envs/tf/lib/python3.6/site-packages/ipykernel_launcher.py:1: DeprecationWarning: Call to deprecated `most_similar` (Method will be removed in 4.0.0, use self.wv.most_similar() instead).\n",
      "  \"\"\"Entry point for launching an IPython kernel.\n"
     ]
    },
    {
     "data": {
      "text/plain": [
       "[('fates', 0.4932428300380707),\n",
       " ('stir', 0.49253180623054504),\n",
       " ('sweeter', 0.44772204756736755),\n",
       " ('centuries', 0.42147296667099),\n",
       " ('quicken', 0.4211445748806),\n",
       " ('fourth', 0.40074172616004944),\n",
       " ('acceptable', 0.3950585126876831),\n",
       " ('moustache', 0.39331620931625366),\n",
       " ('harpooneers', 0.3883146643638611),\n",
       " ('serves', 0.373005747795105)]"
      ]
     },
     "execution_count": 15,
     "metadata": {},
     "output_type": "execute_result"
    }
   ],
   "source": [
    "model.most_similar(positive=['father','man'], negative=['man'])"
   ]
  },
  {
   "cell_type": "markdown",
   "metadata": {},
   "source": [
    "## Reduction of dimentionality (T-SNE)"
   ]
  },
  {
   "cell_type": "code",
   "execution_count": null,
   "metadata": {},
   "outputs": [],
   "source": [
    "ts = TSNE(n_components= 2, n_iter=500,verbose=True)\n",
    "X = model[model.wv.vocab]\n",
    "X_2d = ts.fit_transform(X)"
   ]
  },
  {
   "cell_type": "code",
   "execution_count": null,
   "metadata": {},
   "outputs": [],
   "source": [
    "co_df = pd.DataFrame(X_2d,columns=['X','Y'])\n",
    "co_df['token'] = model.wv.vocab.keys()\n",
    "co_df.to_csv('cleangut.csv',index=False)"
   ]
  },
  {
   "cell_type": "markdown",
   "metadata": {},
   "source": [
    "## Visualize the text"
   ]
  },
  {
   "cell_type": "code",
   "execution_count": 17,
   "metadata": {},
   "outputs": [],
   "source": [
    "co_df = pd.read_csv('cleangut.csv')"
   ]
  },
  {
   "cell_type": "code",
   "execution_count": 18,
   "metadata": {},
   "outputs": [
    {
     "data": {
      "text/html": [
       "<div>\n",
       "<style scoped>\n",
       "    .dataframe tbody tr th:only-of-type {\n",
       "        vertical-align: middle;\n",
       "    }\n",
       "\n",
       "    .dataframe tbody tr th {\n",
       "        vertical-align: top;\n",
       "    }\n",
       "\n",
       "    .dataframe thead th {\n",
       "        text-align: right;\n",
       "    }\n",
       "</style>\n",
       "<table border=\"1\" class=\"dataframe\">\n",
       "  <thead>\n",
       "    <tr style=\"text-align: right;\">\n",
       "      <th></th>\n",
       "      <th>X</th>\n",
       "      <th>Y</th>\n",
       "      <th>token</th>\n",
       "    </tr>\n",
       "  </thead>\n",
       "  <tbody>\n",
       "    <tr>\n",
       "      <th>0</th>\n",
       "      <td>16.477798</td>\n",
       "      <td>-15.183491</td>\n",
       "      <td>emma</td>\n",
       "    </tr>\n",
       "    <tr>\n",
       "      <th>1</th>\n",
       "      <td>21.866116</td>\n",
       "      <td>-11.448565</td>\n",
       "      <td>by</td>\n",
       "    </tr>\n",
       "    <tr>\n",
       "      <th>2</th>\n",
       "      <td>18.342402</td>\n",
       "      <td>-13.570197</td>\n",
       "      <td>jane</td>\n",
       "    </tr>\n",
       "    <tr>\n",
       "      <th>3</th>\n",
       "      <td>3.257514</td>\n",
       "      <td>27.168446</td>\n",
       "      <td>volume</td>\n",
       "    </tr>\n",
       "    <tr>\n",
       "      <th>4</th>\n",
       "      <td>13.583148</td>\n",
       "      <td>17.536863</td>\n",
       "      <td>i</td>\n",
       "    </tr>\n",
       "    <tr>\n",
       "      <th>5</th>\n",
       "      <td>-11.690895</td>\n",
       "      <td>11.020058</td>\n",
       "      <td>chapter</td>\n",
       "    </tr>\n",
       "    <tr>\n",
       "      <th>6</th>\n",
       "      <td>5.522245</td>\n",
       "      <td>12.943996</td>\n",
       "      <td>handsome</td>\n",
       "    </tr>\n",
       "    <tr>\n",
       "      <th>7</th>\n",
       "      <td>2.352829</td>\n",
       "      <td>-8.357400</td>\n",
       "      <td>clever</td>\n",
       "    </tr>\n",
       "    <tr>\n",
       "      <th>8</th>\n",
       "      <td>13.638907</td>\n",
       "      <td>3.469401</td>\n",
       "      <td>and</td>\n",
       "    </tr>\n",
       "    <tr>\n",
       "      <th>9</th>\n",
       "      <td>1.452612</td>\n",
       "      <td>-4.720561</td>\n",
       "      <td>rich</td>\n",
       "    </tr>\n",
       "  </tbody>\n",
       "</table>\n",
       "</div>"
      ],
      "text/plain": [
       "           X          Y     token\n",
       "0  16.477798 -15.183491      emma\n",
       "1  21.866116 -11.448565        by\n",
       "2  18.342402 -13.570197      jane\n",
       "3   3.257514  27.168446    volume\n",
       "4  13.583148  17.536863         i\n",
       "5 -11.690895  11.020058   chapter\n",
       "6   5.522245  12.943996  handsome\n",
       "7   2.352829  -8.357400    clever\n",
       "8  13.638907   3.469401       and\n",
       "9   1.452612  -4.720561      rich"
      ]
     },
     "execution_count": 18,
     "metadata": {},
     "output_type": "execute_result"
    }
   ],
   "source": [
    "co_df.head(10)"
   ]
  },
  {
   "cell_type": "code",
   "execution_count": 19,
   "metadata": {},
   "outputs": [
    {
     "data": {
      "text/html": [
       "\n",
       "    <div class=\"bk-root\">\n",
       "        <a href=\"https://bokeh.pydata.org\" target=\"_blank\" class=\"bk-logo bk-logo-small bk-logo-notebook\"></a>\n",
       "        <span id=\"1001\">Loading BokehJS ...</span>\n",
       "    </div>"
      ]
     },
     "metadata": {},
     "output_type": "display_data"
    },
    {
     "data": {
      "application/javascript": [
       "\n",
       "(function(root) {\n",
       "  function now() {\n",
       "    return new Date();\n",
       "  }\n",
       "\n",
       "  var force = true;\n",
       "\n",
       "  if (typeof (root._bokeh_onload_callbacks) === \"undefined\" || force === true) {\n",
       "    root._bokeh_onload_callbacks = [];\n",
       "    root._bokeh_is_loading = undefined;\n",
       "  }\n",
       "\n",
       "  var JS_MIME_TYPE = 'application/javascript';\n",
       "  var HTML_MIME_TYPE = 'text/html';\n",
       "  var EXEC_MIME_TYPE = 'application/vnd.bokehjs_exec.v0+json';\n",
       "  var CLASS_NAME = 'output_bokeh rendered_html';\n",
       "\n",
       "  /**\n",
       "   * Render data to the DOM node\n",
       "   */\n",
       "  function render(props, node) {\n",
       "    var script = document.createElement(\"script\");\n",
       "    node.appendChild(script);\n",
       "  }\n",
       "\n",
       "  /**\n",
       "   * Handle when an output is cleared or removed\n",
       "   */\n",
       "  function handleClearOutput(event, handle) {\n",
       "    var cell = handle.cell;\n",
       "\n",
       "    var id = cell.output_area._bokeh_element_id;\n",
       "    var server_id = cell.output_area._bokeh_server_id;\n",
       "    // Clean up Bokeh references\n",
       "    if (id != null && id in Bokeh.index) {\n",
       "      Bokeh.index[id].model.document.clear();\n",
       "      delete Bokeh.index[id];\n",
       "    }\n",
       "\n",
       "    if (server_id !== undefined) {\n",
       "      // Clean up Bokeh references\n",
       "      var cmd = \"from bokeh.io.state import curstate; print(curstate().uuid_to_server['\" + server_id + \"'].get_sessions()[0].document.roots[0]._id)\";\n",
       "      cell.notebook.kernel.execute(cmd, {\n",
       "        iopub: {\n",
       "          output: function(msg) {\n",
       "            var id = msg.content.text.trim();\n",
       "            if (id in Bokeh.index) {\n",
       "              Bokeh.index[id].model.document.clear();\n",
       "              delete Bokeh.index[id];\n",
       "            }\n",
       "          }\n",
       "        }\n",
       "      });\n",
       "      // Destroy server and session\n",
       "      var cmd = \"import bokeh.io.notebook as ion; ion.destroy_server('\" + server_id + \"')\";\n",
       "      cell.notebook.kernel.execute(cmd);\n",
       "    }\n",
       "  }\n",
       "\n",
       "  /**\n",
       "   * Handle when a new output is added\n",
       "   */\n",
       "  function handleAddOutput(event, handle) {\n",
       "    var output_area = handle.output_area;\n",
       "    var output = handle.output;\n",
       "\n",
       "    // limit handleAddOutput to display_data with EXEC_MIME_TYPE content only\n",
       "    if ((output.output_type != \"display_data\") || (!output.data.hasOwnProperty(EXEC_MIME_TYPE))) {\n",
       "      return\n",
       "    }\n",
       "\n",
       "    var toinsert = output_area.element.find(\".\" + CLASS_NAME.split(' ')[0]);\n",
       "\n",
       "    if (output.metadata[EXEC_MIME_TYPE][\"id\"] !== undefined) {\n",
       "      toinsert[toinsert.length - 1].firstChild.textContent = output.data[JS_MIME_TYPE];\n",
       "      // store reference to embed id on output_area\n",
       "      output_area._bokeh_element_id = output.metadata[EXEC_MIME_TYPE][\"id\"];\n",
       "    }\n",
       "    if (output.metadata[EXEC_MIME_TYPE][\"server_id\"] !== undefined) {\n",
       "      var bk_div = document.createElement(\"div\");\n",
       "      bk_div.innerHTML = output.data[HTML_MIME_TYPE];\n",
       "      var script_attrs = bk_div.children[0].attributes;\n",
       "      for (var i = 0; i < script_attrs.length; i++) {\n",
       "        toinsert[toinsert.length - 1].firstChild.setAttribute(script_attrs[i].name, script_attrs[i].value);\n",
       "      }\n",
       "      // store reference to server id on output_area\n",
       "      output_area._bokeh_server_id = output.metadata[EXEC_MIME_TYPE][\"server_id\"];\n",
       "    }\n",
       "  }\n",
       "\n",
       "  function register_renderer(events, OutputArea) {\n",
       "\n",
       "    function append_mime(data, metadata, element) {\n",
       "      // create a DOM node to render to\n",
       "      var toinsert = this.create_output_subarea(\n",
       "        metadata,\n",
       "        CLASS_NAME,\n",
       "        EXEC_MIME_TYPE\n",
       "      );\n",
       "      this.keyboard_manager.register_events(toinsert);\n",
       "      // Render to node\n",
       "      var props = {data: data, metadata: metadata[EXEC_MIME_TYPE]};\n",
       "      render(props, toinsert[toinsert.length - 1]);\n",
       "      element.append(toinsert);\n",
       "      return toinsert\n",
       "    }\n",
       "\n",
       "    /* Handle when an output is cleared or removed */\n",
       "    events.on('clear_output.CodeCell', handleClearOutput);\n",
       "    events.on('delete.Cell', handleClearOutput);\n",
       "\n",
       "    /* Handle when a new output is added */\n",
       "    events.on('output_added.OutputArea', handleAddOutput);\n",
       "\n",
       "    /**\n",
       "     * Register the mime type and append_mime function with output_area\n",
       "     */\n",
       "    OutputArea.prototype.register_mime_type(EXEC_MIME_TYPE, append_mime, {\n",
       "      /* Is output safe? */\n",
       "      safe: true,\n",
       "      /* Index of renderer in `output_area.display_order` */\n",
       "      index: 0\n",
       "    });\n",
       "  }\n",
       "\n",
       "  // register the mime type if in Jupyter Notebook environment and previously unregistered\n",
       "  if (root.Jupyter !== undefined) {\n",
       "    var events = require('base/js/events');\n",
       "    var OutputArea = require('notebook/js/outputarea').OutputArea;\n",
       "\n",
       "    if (OutputArea.prototype.mime_types().indexOf(EXEC_MIME_TYPE) == -1) {\n",
       "      register_renderer(events, OutputArea);\n",
       "    }\n",
       "  }\n",
       "\n",
       "  \n",
       "  if (typeof (root._bokeh_timeout) === \"undefined\" || force === true) {\n",
       "    root._bokeh_timeout = Date.now() + 5000;\n",
       "    root._bokeh_failed_load = false;\n",
       "  }\n",
       "\n",
       "  var NB_LOAD_WARNING = {'data': {'text/html':\n",
       "     \"<div style='background-color: #fdd'>\\n\"+\n",
       "     \"<p>\\n\"+\n",
       "     \"BokehJS does not appear to have successfully loaded. If loading BokehJS from CDN, this \\n\"+\n",
       "     \"may be due to a slow or bad network connection. Possible fixes:\\n\"+\n",
       "     \"</p>\\n\"+\n",
       "     \"<ul>\\n\"+\n",
       "     \"<li>re-rerun `output_notebook()` to attempt to load from CDN again, or</li>\\n\"+\n",
       "     \"<li>use INLINE resources instead, as so:</li>\\n\"+\n",
       "     \"</ul>\\n\"+\n",
       "     \"<code>\\n\"+\n",
       "     \"from bokeh.resources import INLINE\\n\"+\n",
       "     \"output_notebook(resources=INLINE)\\n\"+\n",
       "     \"</code>\\n\"+\n",
       "     \"</div>\"}};\n",
       "\n",
       "  function display_loaded() {\n",
       "    var el = document.getElementById(\"1001\");\n",
       "    if (el != null) {\n",
       "      el.textContent = \"BokehJS is loading...\";\n",
       "    }\n",
       "    if (root.Bokeh !== undefined) {\n",
       "      if (el != null) {\n",
       "        el.textContent = \"BokehJS \" + root.Bokeh.version + \" successfully loaded.\";\n",
       "      }\n",
       "    } else if (Date.now() < root._bokeh_timeout) {\n",
       "      setTimeout(display_loaded, 100)\n",
       "    }\n",
       "  }\n",
       "\n",
       "\n",
       "  function run_callbacks() {\n",
       "    try {\n",
       "      root._bokeh_onload_callbacks.forEach(function(callback) { callback() });\n",
       "    }\n",
       "    finally {\n",
       "      delete root._bokeh_onload_callbacks\n",
       "    }\n",
       "    console.info(\"Bokeh: all callbacks have finished\");\n",
       "  }\n",
       "\n",
       "  function load_libs(js_urls, callback) {\n",
       "    root._bokeh_onload_callbacks.push(callback);\n",
       "    if (root._bokeh_is_loading > 0) {\n",
       "      console.log(\"Bokeh: BokehJS is being loaded, scheduling callback at\", now());\n",
       "      return null;\n",
       "    }\n",
       "    if (js_urls == null || js_urls.length === 0) {\n",
       "      run_callbacks();\n",
       "      return null;\n",
       "    }\n",
       "    console.log(\"Bokeh: BokehJS not loaded, scheduling load and callback at\", now());\n",
       "    root._bokeh_is_loading = js_urls.length;\n",
       "    for (var i = 0; i < js_urls.length; i++) {\n",
       "      var url = js_urls[i];\n",
       "      var s = document.createElement('script');\n",
       "      s.src = url;\n",
       "      s.async = false;\n",
       "      s.onreadystatechange = s.onload = function() {\n",
       "        root._bokeh_is_loading--;\n",
       "        if (root._bokeh_is_loading === 0) {\n",
       "          console.log(\"Bokeh: all BokehJS libraries loaded\");\n",
       "          run_callbacks()\n",
       "        }\n",
       "      };\n",
       "      s.onerror = function() {\n",
       "        console.warn(\"failed to load library \" + url);\n",
       "      };\n",
       "      console.log(\"Bokeh: injecting script tag for BokehJS library: \", url);\n",
       "      document.getElementsByTagName(\"head\")[0].appendChild(s);\n",
       "    }\n",
       "  };var element = document.getElementById(\"1001\");\n",
       "  if (element == null) {\n",
       "    console.log(\"Bokeh: ERROR: autoload.js configured with elementid '1001' but no matching script tag was found. \")\n",
       "    return false;\n",
       "  }\n",
       "\n",
       "  var js_urls = [\"https://cdn.pydata.org/bokeh/release/bokeh-1.0.4.min.js\", \"https://cdn.pydata.org/bokeh/release/bokeh-widgets-1.0.4.min.js\", \"https://cdn.pydata.org/bokeh/release/bokeh-tables-1.0.4.min.js\", \"https://cdn.pydata.org/bokeh/release/bokeh-gl-1.0.4.min.js\"];\n",
       "\n",
       "  var inline_js = [\n",
       "    function(Bokeh) {\n",
       "      Bokeh.set_log_level(\"info\");\n",
       "    },\n",
       "    \n",
       "    function(Bokeh) {\n",
       "      \n",
       "    },\n",
       "    function(Bokeh) {\n",
       "      console.log(\"Bokeh: injecting CSS: https://cdn.pydata.org/bokeh/release/bokeh-1.0.4.min.css\");\n",
       "      Bokeh.embed.inject_css(\"https://cdn.pydata.org/bokeh/release/bokeh-1.0.4.min.css\");\n",
       "      console.log(\"Bokeh: injecting CSS: https://cdn.pydata.org/bokeh/release/bokeh-widgets-1.0.4.min.css\");\n",
       "      Bokeh.embed.inject_css(\"https://cdn.pydata.org/bokeh/release/bokeh-widgets-1.0.4.min.css\");\n",
       "      console.log(\"Bokeh: injecting CSS: https://cdn.pydata.org/bokeh/release/bokeh-tables-1.0.4.min.css\");\n",
       "      Bokeh.embed.inject_css(\"https://cdn.pydata.org/bokeh/release/bokeh-tables-1.0.4.min.css\");\n",
       "    }\n",
       "  ];\n",
       "\n",
       "  function run_inline_js() {\n",
       "    \n",
       "    if ((root.Bokeh !== undefined) || (force === true)) {\n",
       "      for (var i = 0; i < inline_js.length; i++) {\n",
       "        inline_js[i].call(root, root.Bokeh);\n",
       "      }if (force === true) {\n",
       "        display_loaded();\n",
       "      }} else if (Date.now() < root._bokeh_timeout) {\n",
       "      setTimeout(run_inline_js, 100);\n",
       "    } else if (!root._bokeh_failed_load) {\n",
       "      console.log(\"Bokeh: BokehJS failed to load within specified timeout.\");\n",
       "      root._bokeh_failed_load = true;\n",
       "    } else if (force !== true) {\n",
       "      var cell = $(document.getElementById(\"1001\")).parents('.cell').data().cell;\n",
       "      cell.output_area.append_execute_result(NB_LOAD_WARNING)\n",
       "    }\n",
       "\n",
       "  }\n",
       "\n",
       "  if (root._bokeh_is_loading === 0) {\n",
       "    console.log(\"Bokeh: BokehJS loaded, going straight to plotting\");\n",
       "    run_inline_js();\n",
       "  } else {\n",
       "    load_libs(js_urls, function() {\n",
       "      console.log(\"Bokeh: BokehJS plotting callback run at\", now());\n",
       "      run_inline_js();\n",
       "    });\n",
       "  }\n",
       "}(window));"
      ],
      "application/vnd.bokehjs_load.v0+json": "\n(function(root) {\n  function now() {\n    return new Date();\n  }\n\n  var force = true;\n\n  if (typeof (root._bokeh_onload_callbacks) === \"undefined\" || force === true) {\n    root._bokeh_onload_callbacks = [];\n    root._bokeh_is_loading = undefined;\n  }\n\n  \n\n  \n  if (typeof (root._bokeh_timeout) === \"undefined\" || force === true) {\n    root._bokeh_timeout = Date.now() + 5000;\n    root._bokeh_failed_load = false;\n  }\n\n  var NB_LOAD_WARNING = {'data': {'text/html':\n     \"<div style='background-color: #fdd'>\\n\"+\n     \"<p>\\n\"+\n     \"BokehJS does not appear to have successfully loaded. If loading BokehJS from CDN, this \\n\"+\n     \"may be due to a slow or bad network connection. Possible fixes:\\n\"+\n     \"</p>\\n\"+\n     \"<ul>\\n\"+\n     \"<li>re-rerun `output_notebook()` to attempt to load from CDN again, or</li>\\n\"+\n     \"<li>use INLINE resources instead, as so:</li>\\n\"+\n     \"</ul>\\n\"+\n     \"<code>\\n\"+\n     \"from bokeh.resources import INLINE\\n\"+\n     \"output_notebook(resources=INLINE)\\n\"+\n     \"</code>\\n\"+\n     \"</div>\"}};\n\n  function display_loaded() {\n    var el = document.getElementById(\"1001\");\n    if (el != null) {\n      el.textContent = \"BokehJS is loading...\";\n    }\n    if (root.Bokeh !== undefined) {\n      if (el != null) {\n        el.textContent = \"BokehJS \" + root.Bokeh.version + \" successfully loaded.\";\n      }\n    } else if (Date.now() < root._bokeh_timeout) {\n      setTimeout(display_loaded, 100)\n    }\n  }\n\n\n  function run_callbacks() {\n    try {\n      root._bokeh_onload_callbacks.forEach(function(callback) { callback() });\n    }\n    finally {\n      delete root._bokeh_onload_callbacks\n    }\n    console.info(\"Bokeh: all callbacks have finished\");\n  }\n\n  function load_libs(js_urls, callback) {\n    root._bokeh_onload_callbacks.push(callback);\n    if (root._bokeh_is_loading > 0) {\n      console.log(\"Bokeh: BokehJS is being loaded, scheduling callback at\", now());\n      return null;\n    }\n    if (js_urls == null || js_urls.length === 0) {\n      run_callbacks();\n      return null;\n    }\n    console.log(\"Bokeh: BokehJS not loaded, scheduling load and callback at\", now());\n    root._bokeh_is_loading = js_urls.length;\n    for (var i = 0; i < js_urls.length; i++) {\n      var url = js_urls[i];\n      var s = document.createElement('script');\n      s.src = url;\n      s.async = false;\n      s.onreadystatechange = s.onload = function() {\n        root._bokeh_is_loading--;\n        if (root._bokeh_is_loading === 0) {\n          console.log(\"Bokeh: all BokehJS libraries loaded\");\n          run_callbacks()\n        }\n      };\n      s.onerror = function() {\n        console.warn(\"failed to load library \" + url);\n      };\n      console.log(\"Bokeh: injecting script tag for BokehJS library: \", url);\n      document.getElementsByTagName(\"head\")[0].appendChild(s);\n    }\n  };var element = document.getElementById(\"1001\");\n  if (element == null) {\n    console.log(\"Bokeh: ERROR: autoload.js configured with elementid '1001' but no matching script tag was found. \")\n    return false;\n  }\n\n  var js_urls = [\"https://cdn.pydata.org/bokeh/release/bokeh-1.0.4.min.js\", \"https://cdn.pydata.org/bokeh/release/bokeh-widgets-1.0.4.min.js\", \"https://cdn.pydata.org/bokeh/release/bokeh-tables-1.0.4.min.js\", \"https://cdn.pydata.org/bokeh/release/bokeh-gl-1.0.4.min.js\"];\n\n  var inline_js = [\n    function(Bokeh) {\n      Bokeh.set_log_level(\"info\");\n    },\n    \n    function(Bokeh) {\n      \n    },\n    function(Bokeh) {\n      console.log(\"Bokeh: injecting CSS: https://cdn.pydata.org/bokeh/release/bokeh-1.0.4.min.css\");\n      Bokeh.embed.inject_css(\"https://cdn.pydata.org/bokeh/release/bokeh-1.0.4.min.css\");\n      console.log(\"Bokeh: injecting CSS: https://cdn.pydata.org/bokeh/release/bokeh-widgets-1.0.4.min.css\");\n      Bokeh.embed.inject_css(\"https://cdn.pydata.org/bokeh/release/bokeh-widgets-1.0.4.min.css\");\n      console.log(\"Bokeh: injecting CSS: https://cdn.pydata.org/bokeh/release/bokeh-tables-1.0.4.min.css\");\n      Bokeh.embed.inject_css(\"https://cdn.pydata.org/bokeh/release/bokeh-tables-1.0.4.min.css\");\n    }\n  ];\n\n  function run_inline_js() {\n    \n    if ((root.Bokeh !== undefined) || (force === true)) {\n      for (var i = 0; i < inline_js.length; i++) {\n        inline_js[i].call(root, root.Bokeh);\n      }if (force === true) {\n        display_loaded();\n      }} else if (Date.now() < root._bokeh_timeout) {\n      setTimeout(run_inline_js, 100);\n    } else if (!root._bokeh_failed_load) {\n      console.log(\"Bokeh: BokehJS failed to load within specified timeout.\");\n      root._bokeh_failed_load = true;\n    } else if (force !== true) {\n      var cell = $(document.getElementById(\"1001\")).parents('.cell').data().cell;\n      cell.output_area.append_execute_result(NB_LOAD_WARNING)\n    }\n\n  }\n\n  if (root._bokeh_is_loading === 0) {\n    console.log(\"Bokeh: BokehJS loaded, going straight to plotting\");\n    run_inline_js();\n  } else {\n    load_libs(js_urls, function() {\n      console.log(\"Bokeh: BokehJS plotting callback run at\", now());\n      run_inline_js();\n    });\n  }\n}(window));"
     },
     "metadata": {},
     "output_type": "display_data"
    }
   ],
   "source": [
    "output_notebook()"
   ]
  },
  {
   "cell_type": "code",
   "execution_count": 20,
   "metadata": {},
   "outputs": [],
   "source": [
    "subset_df = co_df.sample(1000)"
   ]
  },
  {
   "cell_type": "code",
   "execution_count": 21,
   "metadata": {},
   "outputs": [],
   "source": [
    "p = figure(plot_width = 600,plot_height = 600)\n",
    "_ = p.text(x=subset_df.X,y = subset_df.Y,text=subset_df.token)"
   ]
  },
  {
   "cell_type": "code",
   "execution_count": 22,
   "metadata": {},
   "outputs": [
    {
     "data": {
      "text/html": [
       "\n",
       "\n",
       "\n",
       "\n",
       "\n",
       "\n",
       "  <div class=\"bk-root\" id=\"5d98a9ab-5611-4e15-bdf3-4bd8342d8baf\" data-root-id=\"1002\"></div>\n"
      ]
     },
     "metadata": {},
     "output_type": "display_data"
    },
    {
     "data": {
      "application/javascript": [
       "(function(root) {\n",
       "  function embed_document(root) {\n",
       "    \n",
       "  var docs_json = {\"9529ad99-9672-4fbe-9151-738271a6c72f\":{\"roots\":{\"references\":[{\"attributes\":{\"below\":[{\"id\":\"1011\",\"type\":\"LinearAxis\"}],\"left\":[{\"id\":\"1016\",\"type\":\"LinearAxis\"}],\"renderers\":[{\"id\":\"1011\",\"type\":\"LinearAxis\"},{\"id\":\"1015\",\"type\":\"Grid\"},{\"id\":\"1016\",\"type\":\"LinearAxis\"},{\"id\":\"1020\",\"type\":\"Grid\"},{\"id\":\"1029\",\"type\":\"BoxAnnotation\"},{\"id\":\"1039\",\"type\":\"GlyphRenderer\"}],\"title\":{\"id\":\"1042\",\"type\":\"Title\"},\"toolbar\":{\"id\":\"1027\",\"type\":\"Toolbar\"},\"x_range\":{\"id\":\"1003\",\"type\":\"DataRange1d\"},\"x_scale\":{\"id\":\"1007\",\"type\":\"LinearScale\"},\"y_range\":{\"id\":\"1005\",\"type\":\"DataRange1d\"},\"y_scale\":{\"id\":\"1009\",\"type\":\"LinearScale\"}},\"id\":\"1002\",\"subtype\":\"Figure\",\"type\":\"Plot\"},{\"attributes\":{},\"id\":\"1007\",\"type\":\"LinearScale\"},{\"attributes\":{},\"id\":\"1009\",\"type\":\"LinearScale\"},{\"attributes\":{},\"id\":\"1048\",\"type\":\"UnionRenderers\"},{\"attributes\":{\"formatter\":{\"id\":\"1044\",\"type\":\"BasicTickFormatter\"},\"plot\":{\"id\":\"1002\",\"subtype\":\"Figure\",\"type\":\"Plot\"},\"ticker\":{\"id\":\"1012\",\"type\":\"BasicTicker\"}},\"id\":\"1011\",\"type\":\"LinearAxis\"},{\"attributes\":{\"plot\":null,\"text\":\"\"},\"id\":\"1042\",\"type\":\"Title\"},{\"attributes\":{},\"id\":\"1012\",\"type\":\"BasicTicker\"},{\"attributes\":{\"plot\":{\"id\":\"1002\",\"subtype\":\"Figure\",\"type\":\"Plot\"},\"ticker\":{\"id\":\"1012\",\"type\":\"BasicTicker\"}},\"id\":\"1015\",\"type\":\"Grid\"},{\"attributes\":{\"formatter\":{\"id\":\"1046\",\"type\":\"BasicTickFormatter\"},\"plot\":{\"id\":\"1002\",\"subtype\":\"Figure\",\"type\":\"Plot\"},\"ticker\":{\"id\":\"1017\",\"type\":\"BasicTicker\"}},\"id\":\"1016\",\"type\":\"LinearAxis\"},{\"attributes\":{},\"id\":\"1017\",\"type\":\"BasicTicker\"},{\"attributes\":{\"text_alpha\":{\"value\":0.1},\"text_color\":{\"value\":\"black\"},\"x\":{\"field\":\"x\"},\"y\":{\"field\":\"y\"}},\"id\":\"1038\",\"type\":\"Text\"},{\"attributes\":{\"callback\":null},\"id\":\"1003\",\"type\":\"DataRange1d\"},{\"attributes\":{\"dimension\":1,\"plot\":{\"id\":\"1002\",\"subtype\":\"Figure\",\"type\":\"Plot\"},\"ticker\":{\"id\":\"1017\",\"type\":\"BasicTicker\"}},\"id\":\"1020\",\"type\":\"Grid\"},{\"attributes\":{\"callback\":null},\"id\":\"1005\",\"type\":\"DataRange1d\"},{\"attributes\":{\"active_drag\":\"auto\",\"active_inspect\":\"auto\",\"active_multi\":null,\"active_scroll\":\"auto\",\"active_tap\":\"auto\",\"tools\":[{\"id\":\"1021\",\"type\":\"PanTool\"},{\"id\":\"1022\",\"type\":\"WheelZoomTool\"},{\"id\":\"1023\",\"type\":\"BoxZoomTool\"},{\"id\":\"1024\",\"type\":\"SaveTool\"},{\"id\":\"1025\",\"type\":\"ResetTool\"},{\"id\":\"1026\",\"type\":\"HelpTool\"}]},\"id\":\"1027\",\"type\":\"Toolbar\"},{\"attributes\":{},\"id\":\"1044\",\"type\":\"BasicTickFormatter\"},{\"attributes\":{},\"id\":\"1021\",\"type\":\"PanTool\"},{\"attributes\":{},\"id\":\"1046\",\"type\":\"BasicTickFormatter\"},{\"attributes\":{},\"id\":\"1022\",\"type\":\"WheelZoomTool\"},{\"attributes\":{},\"id\":\"1047\",\"type\":\"Selection\"},{\"attributes\":{\"text_color\":{\"value\":\"black\"},\"x\":{\"field\":\"x\"},\"y\":{\"field\":\"y\"}},\"id\":\"1037\",\"type\":\"Text\"},{\"attributes\":{\"overlay\":{\"id\":\"1029\",\"type\":\"BoxAnnotation\"}},\"id\":\"1023\",\"type\":\"BoxZoomTool\"},{\"attributes\":{},\"id\":\"1024\",\"type\":\"SaveTool\"},{\"attributes\":{},\"id\":\"1025\",\"type\":\"ResetTool\"},{\"attributes\":{\"source\":{\"id\":\"1036\",\"type\":\"ColumnDataSource\"}},\"id\":\"1040\",\"type\":\"CDSView\"},{\"attributes\":{},\"id\":\"1026\",\"type\":\"HelpTool\"},{\"attributes\":{\"data_source\":{\"id\":\"1036\",\"type\":\"ColumnDataSource\"},\"glyph\":{\"id\":\"1037\",\"type\":\"Text\"},\"hover_glyph\":null,\"muted_glyph\":null,\"nonselection_glyph\":{\"id\":\"1038\",\"type\":\"Text\"},\"selection_glyph\":null,\"view\":{\"id\":\"1040\",\"type\":\"CDSView\"}},\"id\":\"1039\",\"type\":\"GlyphRenderer\"},{\"attributes\":{\"callback\":null,\"data\":{\"text\":[\"near\",\"devout\",\"confound\",\"supreme\",\"clearness\",\"loving\",\"intent\",\"unspeakable\",\"kill\",\"spoils\",\"legions\",\"pledge\",\"sleepers\",\"neighbourhood\",\"ministers\",\"obedient\",\"sufficient\",\"lords\",\"overlooking\",\"herein\",\"burnt_offerings\",\"purpose\",\"theirs\",\"warmly\",\"boots\",\"shun\",\"warre\",\"damp\",\"retire\",\"haul\",\"alarm\",\"frog\",\"hopes\",\"loud\",\"returns\",\"color\",\"milcah\",\"keeping\",\"realities\",\"sings\",\"withered\",\"allenham\",\"seer\",\"salutation\",\"unaffected\",\"justification\",\"meant\",\"june\",\"mahli\",\"chalk\",\"spoiled\",\"shan\",\"sunlit\",\"demand\",\"lasting\",\"precious\",\"blade\",\"sheath\",\"housekeeper\",\"sweet\",\"pent\",\"longitude\",\"ye\",\"parchment\",\"recollect\",\"proceeding\",\"lebanon\",\"seamen\",\"direct\",\"reade\",\"lady_russell\",\"zealous\",\"rowing\",\"carstairs\",\"definition\",\"loftiest\",\"tawny\",\"trial\",\"fowls\",\"cask\",\"exeunt\",\"putnam\",\"sussex\",\"screamed\",\"passions\",\"139\",\"bleating\",\"freely\",\"stated\",\"assurances\",\"differ\",\"synagogues\",\"wink\",\"whatever\",\"water\",\"deborah\",\"lift\",\"conspirators\",\"pump\",\"anger\",\"rejoicing\",\"vengeance\",\"beggar\",\"posted\",\"coffin\",\"augment\",\"abound\",\"moon\",\"hawk\",\"jeroham\",\"defect\",\"seats\",\"glass\",\"company\",\"result\",\"propriety\",\"covering\",\"lodge\",\"closely\",\"rib\",\"appearance\",\"restored\",\"officers\",\"delight\",\"naught\",\"dagon\",\"streaming\",\"uniforms\",\"cluster\",\"found\",\"pause\",\"spreadeth\",\"sobs\",\"hereabouts\",\"thus_saith\",\"leah\",\"temper\",\"ribbons\",\"regiment\",\"national\",\"terms\",\"infants\",\"share\",\"churches\",\"flye\",\"mechanics\",\"atmosphere\",\"regions\",\"queene\",\"come\",\"crossing\",\"sad\",\"flowers\",\"so\",\"inherit\",\"ran\",\"cloth\",\"suppose\",\"sublime\",\"pushing\",\"worke\",\"regardeth\",\"heaving\",\"hare\",\"presently\",\"odor\",\"elderly\",\"thickness\",\"bench\",\"mess\",\"approached\",\"hasten\",\"victory\",\"leading\",\"digging\",\"lengths\",\"yea\",\"flora\",\"impart\",\"forehead\",\"elinor\",\"denmarke\",\"bruno\",\"observed\",\"reflections\",\"frenchman\",\"paternal\",\"differently\",\"burn\",\"villages\",\"chief\",\"prairie\",\"sower\",\"bathed\",\"amnon\",\"slipping\",\"roses\",\"graceful\",\"begging\",\"duty\",\"amusing\",\"drums\",\"miss_woodhouse\",\"warring\",\"wither\",\"barren\",\"shewbread\",\"honor\",\"neither\",\"ashtaroth\",\"overpowered\",\"sayes\",\"hur\",\"magistrates\",\"silence\",\"joys\",\"forsook\",\"picked\",\"unicorn\",\"increasing\",\"publish\",\"wrong\",\"cruising\",\"clerical\",\"hirsch\",\"sigh\",\"delightfully\",\"bounds\",\"susan\",\"israel\",\"iniquity\",\"adorn\",\"healthy\",\"violet\",\"attending\",\"descended\",\"zebedee\",\"seed\",\"murderers\",\"whalebone\",\"winepress\",\"assembled\",\"mr_elliot\",\"wise\",\"narration\",\"organ\",\"impatiently\",\"lave\",\"relieve\",\"warriors\",\"remark\",\"sand\",\"happiness\",\"point\",\"wound\",\"matters\",\"knowledge\",\"admirable\",\"limitless\",\"secretly\",\"hold\",\"amiable\",\"slate\",\"gestures\",\"parent\",\"soul\",\"fatherless\",\"reasoned\",\"search\",\"fact\",\"conduct\",\"feareth\",\"lest\",\"expecting\",\"asleep\",\"enormous\",\"earn\",\"libraries\",\"welfare\",\"necks\",\"circumcision\",\"hatter\",\"amends\",\"arrived\",\"forged\",\"deserves\",\"stronger\",\"folding\",\"older\",\"disagreeable\",\"jews\",\"distress\",\"improvements\",\"belly\",\"shattered\",\"becomes\",\"spaces\",\"haze\",\"histories\",\"occasionally\",\"beforetime\",\"bowls\",\"ohio\",\"snow\",\"hoops\",\"galilee\",\"untold\",\"thereon\",\"tied\",\"turtle\",\"hook\",\"monstrous\",\"tranquil\",\"cheer\",\"conflict\",\"bracelets\",\"delayed\",\"tenderness\",\"rows\",\"pleasant\",\"136\",\"honoured\",\"moabites\",\"ahimaaz\",\"avoid\",\"continent\",\"rend\",\"dove\",\"red\",\"handled\",\"yojo\",\"brace\",\"waxen\",\"jabeshgilead\",\"darker\",\"20\",\".--\\\"\",\"blue\",\"convocation\",\"joint\",\"drives\",\"caes\",\"entitled\",\"carbuncle\",\"graven\",\"causeth\",\"characters\",\"desired\",\"scratch\",\"wiping\",\"flour\",\"insolent\",\"riseth\",\"saw\",\"fortunes\",\";--\",\"louisa\",\"constantly\",\"dislike\",\"woman\",\"decius\",\"occasion\",\"sir_arthur\",\"11\",\"path\",\"twilight\",\"hue\",\"striking\",\"fitting\",\"agitation\",\"sticking\",\"conclusion\",\"alert\",\"fishermen\",\"dear\",\"caroline\",\"gadites\",\"staying\",\"applied\",\"life\",\"pistol\",\"noonday\",\"innocent\",\"brim\",\"brightened\",\"abundant\",\"wear\",\"weighed\",\"psalteries\",\"where\",\"cheeks\",\"uplifted\",\"urgent\",\"march\",\"abode\",\"ancient\",\"surprized\",\"succoth\",\"dashing\",\"encountered\",\"grape\",\"proverb\",\"burs\",\"chest\",\"experience\",\"lap\",\"sights\",\"cords\",\"pound\",\"what\",\"kettle\",\"deserve\",\"ferrars\",\"remained\",\"books\",\"roused\",\"hussey\",\"phinehas\",\"corkscrew\",\"whereof\",\"railway\",\"pulling\",\"wine\",\"amalekites\",\"horribly\",\"stubble\",\"amidst\",\"a\",\"provide\",\"eve\",\"chanced\",\"literary\",\"blanket\",\"backe\",\"confidential\",\"gifts\",\"induced\",\"rise\",\"ponderous\",\"banq\",\"slain\",\"receiue\",\"sacred\",\"climbing\",\"comforter\",\"24\",\"queens\",\"sits\",\"weaned\",\"tophet\",\"favoured\",\"believed\",\"beor\",\"fifteenth\",\"generous\",\"views\",\"needy\",\"carlo\",\"meet\",\"gardeners\",\"working\",\"travels\",\"fathers\",\"fork\",\"ranks\",\"back\",\"shifting\",\"counsellor\",\"trembled\",\"loaded\",\"extravagance\",\"balak\",\"assented\",\"interpreted\",\"attract\",\"peaceable\",\"problem\",\"ships\",\"contrast\",\"sanctified\",\"reeds\",\"glided\",\"pilots\",\"others\",\"whelps\",\"billy\",\"harville\",\"buckler\",\"40\",\"pertaining\",\"submit\",\"action\",\"arrow\",\"euen\",\"humbled\",\"considered\",\"enmity\",\"returne\",\"41\",\"josiah\",\"likened\",\"impression\",\"upside\",\"structure\",\"proof\",\"bat\",\"102\",\"emphasis\",\"answer\",\"hammock\",\"naples\",\"paws\",\"fiercely\",\"indisposition\",\"thereto\",\"widely\",\"neighbouring\",\"aside\",\"clime\",\"key\",\"wells\",\"joke\",\"betook\",\"ladies\",\"forty\",\"105\",\"run\",\"surprise\",\"think\",\"drooping\",\"acknowledge\",\"laugh\",\"holy_ghost\",\"boxes\",\"smallest\",\"offering\",\"sneezing\",\"reception\",\"cherish\",\"handful\",\"two\",\"empty\",\"mortal\",\"abner\",\"jehoiachin\",\"wreathen\",\"thirsty\",\"downstairs\",\"feared\",\"quickness\",\"until\",\"blessed\",\"original\",\"tap\",\"assume\",\"accuse\",\"afternoon\",\"deliverer\",\"evil\",\"passionately\",\"article\",\"distinction\",\"sent_messengers\",\"carol\",\"indian\",\"ratcliffe\",\"sleeper\",\"brings\",\"plaister\",\"mrs_dashwood\",\"peril\",\"wailing\",\"newes\",\"breasts\",\"impressed\",\"lengthwise\",\"actor\",\"caesar\",\"us\",\"advice\",\"palace\",\"ornaments\",\"nicely\",\"modern\",\"inspector\",\"calmness\",\"divideth\",\"reveal\",\"sober\",\"moderation\",\"suggestions\",\"harder\",\"same\",\"ointment\",\"sum\",\"my\",\"m_sure\",\"overtook\",\"amon\",\"pleasing\",\"resemblance\",\"nigger\",\"queequeg\",\"befell\",\"courtiers\",\"heed\",\"caution\",\"would\",\"cease\",\"tolerably\",\"italian\",\"isn_t\",\"pencil\",\"finish\",\"terror\",\"towing\",\"plenty\",\"involuntarily\",\"boys\",\"obviously\",\"largely\",\"bride\",\"enters\",\"unkind\",\"religions\",\"emotion\",\"mutiny\",\"stubb\",\"civilization\",\"ivory\",\"brass\",\"dining\",\"menacing\",\"tempt\",\"supported\",\"brook\",\"dare_say\",\"recollection\",\"provided\",\"tried\",\"piercefield\",\"stuck\",\"tomb\",\"backward\",\"opera\",\"falling\",\"meal\",\"unearthly\",\"perpendicular\",\"uncircumcised\",\"!\\\"\",\"consumption\",\"91\",\"verse\",\"73\",\"weeks\",\"worthy\",\"mention\",\"lowest\",\"kindled\",\"sulky\",\"evildoers\",\"earliest\",\"whistle\",\"yawned\",\"camden\",\"ahead\",\"honey\",\"flames\",\"sixpence\",\"civilly\",\"vainly\",\"crabs\",\"jehoram\",\"parish\",\"carving\",\"edomites\",\"screaming\",\"',\",\"tyrant\",\"caprice\",\"tarlton\",\"noon\",\"exertions\",\"sex\",\"kinds\",\"quarter\",\"hymns\",\"humming\",\"daily\",\"crucified\",\"thrust\",\"listen\",\"disappointed\",\"ophir\",\"falsehood\",\"grope\",\"sheets\",\"consecrated\",\"fore\",\"purposely\",\"commonest\",\"fortitude\",\"departing\",\"felix\",\"surprising\",\"elements\",\"holes\",\"orb\",\"sport\",\"papa\",\"venison\",\"herds\",\"vse\",\"pinch\",\"perform\",\"phrase\",\"hind\",\"fat\",\"physical\",\"seethe\",\"sleet\",\"i\",\"dross\",\"goings\",\"lantern\",\"hum\",\"husbandmen\",\"assemble\",\"jealousy\",\"legged\",\"spectators\",\"dotted\",\"57\",\"disciples\",\"armour\",\"threat\",\"contact\",\"breast\",\"businesse\",\"valley\",\"monomaniac\",\"deeply\",\"benjamin\",\"praying\",\"arithmetic\",\"articles\",\"guil\",\"little\",\"eighteenth\",\"cattle\",\"natures\",\"consequent\",\"inspire\",\"_her_\",\"containing\",\"overthrown\",\"rejoiced\",\"open\",\"blasted\",\"musgroves\",\"forgets\",\"yourself\",\"trespass\",\"steady\",\"tie\",\"planet\",\"pull\",\"binnacle\",\"pleas\",\"into\",\"gaily\",\"seruice\",\"plants\",\"just\",\"suffering\",\"ruins\",\"laughter\",\"hatch\",\"killeth\",\"wentest\",\"interests\",\"peering\",\"wished\",\"glory\",\"threads\",\"halloa\",\"forwards\",\"embrace\",\"blacky\",\"**\",\"midnight\",\"willingly\",\"ash\",\"treadeth\",\"hamor\",\"vapours\",\"ghosts\",\"thoughtfully\",\"whichever\",\"spread\",\"disturb\",\"goshen\",\"fraud\",\"talk\",\"rap\",\"strathspey\",\"sucklings\",\"hurry\",\"natural\",\"meanes\",\"prick\",\"wholly\",\"affections\",\"122\",\"hungry\",\"narwhale\",\"front\",\"furthermore\",\"darts\",\"delivereth\",\"vinegar\",\"besides\",\"grass\",\"discoveries\",\"unhappiness\",\"vice\",\"boaz\",\"anxiously\",\"shades\",\"daresay\",\"swells\",\"quarrel\",\"oak\",\"apologize\",\"accomplish\",\"wax\",\"factories\",\"our\",\"hereby\",\"ragged\",\"teachers\",\"picking\",\"curiously\",\"taking\",\"gospel\",\"zephaniah\",\"forenoon\",\"116\",\"joseph\",\"saints\",\"century\",\"shiny\",\"middletons\",\"innkeeper\",\"squall\",\"calamity\",\"heare\",\"ropes\",\"characteristic\",\"remembered\",\"unless\",\"\\\"'\",\"log\",\"family\",\"breakers\",\"fossils\",\"balloon\",\"warmed\",\"medium\",\"holy\",\"hurled\",\"lighten\",\"plunge\",\"pride\",\"promise\",\"emerald\",\"bowels\",\"wandered\",\"owed\",\"psalm\",\"rigid\",\"metellus\",\"slayer\",\"clang\",\"recognition\",\",'\",\"marry\",\"concluded\",\"report\",\"helpe\",\"27\",\"dan\",\"spy\",\"peaceably\",\"curtain\",\"atlantic\",\"boat\",\"doors\",\"useful\",\"mar\",\"stretching\",\"keepers\",\"cheerfully\",\"invariably\",\"62\",\"uzzi\",\"edom\",\"riblah\",\"laughed\",\"keys\",\"cast\",\"widows\",\"constellations\",\"dealing\",\"bid\",\"packing\",\"accommodate\",\"questioning\",\"acknowledging\",\"prose\",\"meeting\",\"highland\",\"aloud\",\"nimble\",\"generosity\",\"beings\",\"outside\",\"valued\",\"shekel\",\"beckoned\",\"therefore\",\"up\",\"democratic\",\"firmly\",\"chip\",\"leaping\",\":--\",\"sammy\",\"francisco\",\"sensation\",\"dignified\",\"horror\",\"map\",\"wasted\",\"plymouth\",\"lip\",\"footstool\",\"channel\",\"editor\",\"spade\",\"youthful\",\"scotch\",\"assurance\",\"merari\",\"conqueror\",\"criminal\",\"experiences\",\"dedication\",\"pigeon\",\"immense\",\"sucked\",\"nevertheless\",\"load\",\"ephesus\",\"meanness\",\"threatened\",\"tongue\",\"roof\",\"lazy\",\"muffled\",\"todhunter\",\"actions\",\"sickle\",\"animated\",\"belong\",\"send\",\"fearing\",\"kidron\",\"care\",\"shipmates\",\"studies\",\"prosperous\",\"separation\",\"narrow\",\"provoked\",\"european\",\"severely\",\"homely\",\"abhorred\",\"swift\",\"surrounding\",\"seem\",\"utmost\",\"manners\",\"orderly\",\"beg\",\"childish\",\"maids\",\"short\"],\"x\":{\"__ndarray__\":\"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\",\"dtype\":\"float64\",\"shape\":[1000]},\"y\":{\"__ndarray__\":\"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\",\"dtype\":\"float64\",\"shape\":[1000]}},\"selected\":{\"id\":\"1047\",\"type\":\"Selection\"},\"selection_policy\":{\"id\":\"1048\",\"type\":\"UnionRenderers\"}},\"id\":\"1036\",\"type\":\"ColumnDataSource\"},{\"attributes\":{\"bottom_units\":\"screen\",\"fill_alpha\":{\"value\":0.5},\"fill_color\":{\"value\":\"lightgrey\"},\"left_units\":\"screen\",\"level\":\"overlay\",\"line_alpha\":{\"value\":1.0},\"line_color\":{\"value\":\"black\"},\"line_dash\":[4,4],\"line_width\":{\"value\":2},\"plot\":null,\"render_mode\":\"css\",\"right_units\":\"screen\",\"top_units\":\"screen\"},\"id\":\"1029\",\"type\":\"BoxAnnotation\"}],\"root_ids\":[\"1002\"]},\"title\":\"Bokeh Application\",\"version\":\"1.0.4\"}};\n",
       "  var render_items = [{\"docid\":\"9529ad99-9672-4fbe-9151-738271a6c72f\",\"roots\":{\"1002\":\"5d98a9ab-5611-4e15-bdf3-4bd8342d8baf\"}}];\n",
       "  root.Bokeh.embed.embed_items_notebook(docs_json, render_items);\n",
       "\n",
       "  }\n",
       "  if (root.Bokeh !== undefined) {\n",
       "    embed_document(root);\n",
       "  } else {\n",
       "    var attempts = 0;\n",
       "    var timer = setInterval(function(root) {\n",
       "      if (root.Bokeh !== undefined) {\n",
       "        embed_document(root);\n",
       "        clearInterval(timer);\n",
       "      }\n",
       "      attempts++;\n",
       "      if (attempts > 100) {\n",
       "        console.log(\"Bokeh: ERROR: Unable to run BokehJS code because BokehJS library is missing\");\n",
       "        clearInterval(timer);\n",
       "      }\n",
       "    }, 10, root)\n",
       "  }\n",
       "})(window);"
      ],
      "application/vnd.bokehjs_exec.v0+json": ""
     },
     "metadata": {
      "application/vnd.bokehjs_exec.v0+json": {
       "id": "1002"
      }
     },
     "output_type": "display_data"
    }
   ],
   "source": [
    "show(p)"
   ]
  },
  {
   "cell_type": "code",
   "execution_count": 23,
   "metadata": {},
   "outputs": [],
   "source": [
    "from bokeh.io import output_file\n",
    "output_file('wor2')"
   ]
  },
  {
   "cell_type": "code",
   "execution_count": null,
   "metadata": {},
   "outputs": [],
   "source": []
  }
 ],
 "metadata": {
  "kernelspec": {
   "display_name": "Python 3",
   "language": "python",
   "name": "python3"
  },
  "language_info": {
   "codemirror_mode": {
    "name": "ipython",
    "version": 3
   },
   "file_extension": ".py",
   "mimetype": "text/x-python",
   "name": "python",
   "nbconvert_exporter": "python",
   "pygments_lexer": "ipython3",
   "version": "3.6.8"
  }
 },
 "nbformat": 4,
 "nbformat_minor": 2
}
